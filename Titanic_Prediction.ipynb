{
  "nbformat": 4,
  "nbformat_minor": 0,
  "metadata": {
    "kernelspec": {
      "display_name": "Python 3",
      "language": "python",
      "name": "python3"
    },
    "language_info": {
      "codemirror_mode": {
        "name": "ipython",
        "version": 3
      },
      "file_extension": ".py",
      "mimetype": "text/x-python",
      "name": "python",
      "nbconvert_exporter": "python",
      "pygments_lexer": "ipython3",
      "version": "3.7.3"
    },
    "colab": {
      "name": "Titanic Prediction.ipynb",
      "provenance": [],
      "collapsed_sections": []
    }
  },
  "cells": [
    {
      "cell_type": "markdown",
      "metadata": {
        "id": "7zx9b1uDHeiG",
        "colab_type": "text"
      },
      "source": [
        "### Importing some libraries"
      ]
    },
    {
      "cell_type": "code",
      "metadata": {
        "id": "8VB2ta3DHeiK",
        "colab_type": "code",
        "colab": {}
      },
      "source": [
        "# Data processing libraries\n",
        "import numpy as np\n",
        "import pandas as pd\n",
        "\n",
        "# Data visualization libraries \n",
        "import matplotlib.pyplot as plt\n",
        "%matplotlib inline\n",
        "import seaborn as sns\n",
        "\n"
      ],
      "execution_count": 0,
      "outputs": []
    },
    {
      "cell_type": "markdown",
      "metadata": {
        "id": "X5GE4PKIHeic",
        "colab_type": "text"
      },
      "source": [
        "### Importing the dataset"
      ]
    },
    {
      "cell_type": "code",
      "metadata": {
        "id": "VXU3F0dlHeie",
        "colab_type": "code",
        "colab": {}
      },
      "source": [
        "train_set = pd.read_csv('C:\\\\Users\\\\Sharon\\\\Titanic Prediction\\\\train.csv')\n",
        "test_set = pd.read_csv('C:\\\\Users\\\\Sharon\\\\Titanic Prediction\\\\test.csv')\n"
      ],
      "execution_count": 0,
      "outputs": []
    },
    {
      "cell_type": "markdown",
      "metadata": {
        "id": "2usJjfrlHeix",
        "colab_type": "text"
      },
      "source": [
        "### Exploratory Data Analysis"
      ]
    },
    {
      "cell_type": "code",
      "metadata": {
        "id": "zXK1hIeSHei0",
        "colab_type": "code",
        "colab": {}
      },
      "source": [
        "import datasist as ds"
      ],
      "execution_count": 0,
      "outputs": []
    },
    {
      "cell_type": "code",
      "metadata": {
        "id": "YS3S3cbDHejG",
        "colab_type": "code",
        "colab": {},
        "outputId": "7dbd8c5d-192c-4461-fd32-089af2281814"
      },
      "source": [
        "ds.structdata.describe(train_set)"
      ],
      "execution_count": 0,
      "outputs": [
        {
          "output_type": "stream",
          "text": [
            "First five data points\n"
          ],
          "name": "stdout"
        },
        {
          "output_type": "display_data",
          "data": {
            "text/html": [
              "<div>\n",
              "<style scoped>\n",
              "    .dataframe tbody tr th:only-of-type {\n",
              "        vertical-align: middle;\n",
              "    }\n",
              "\n",
              "    .dataframe tbody tr th {\n",
              "        vertical-align: top;\n",
              "    }\n",
              "\n",
              "    .dataframe thead th {\n",
              "        text-align: right;\n",
              "    }\n",
              "</style>\n",
              "<table border=\"1\" class=\"dataframe\">\n",
              "  <thead>\n",
              "    <tr style=\"text-align: right;\">\n",
              "      <th></th>\n",
              "      <th>PassengerId</th>\n",
              "      <th>Survived</th>\n",
              "      <th>Pclass</th>\n",
              "      <th>Name</th>\n",
              "      <th>Sex</th>\n",
              "      <th>Age</th>\n",
              "      <th>SibSp</th>\n",
              "      <th>Parch</th>\n",
              "      <th>Ticket</th>\n",
              "      <th>Fare</th>\n",
              "      <th>Cabin</th>\n",
              "      <th>Embarked</th>\n",
              "    </tr>\n",
              "  </thead>\n",
              "  <tbody>\n",
              "    <tr>\n",
              "      <th>0</th>\n",
              "      <td>1</td>\n",
              "      <td>0</td>\n",
              "      <td>3</td>\n",
              "      <td>Braund, Mr. Owen Harris</td>\n",
              "      <td>male</td>\n",
              "      <td>22.0</td>\n",
              "      <td>1</td>\n",
              "      <td>0</td>\n",
              "      <td>A/5 21171</td>\n",
              "      <td>7.2500</td>\n",
              "      <td>NaN</td>\n",
              "      <td>S</td>\n",
              "    </tr>\n",
              "    <tr>\n",
              "      <th>1</th>\n",
              "      <td>2</td>\n",
              "      <td>1</td>\n",
              "      <td>1</td>\n",
              "      <td>Cumings, Mrs. John Bradley (Florence Briggs Th...</td>\n",
              "      <td>female</td>\n",
              "      <td>38.0</td>\n",
              "      <td>1</td>\n",
              "      <td>0</td>\n",
              "      <td>PC 17599</td>\n",
              "      <td>71.2833</td>\n",
              "      <td>C85</td>\n",
              "      <td>C</td>\n",
              "    </tr>\n",
              "    <tr>\n",
              "      <th>2</th>\n",
              "      <td>3</td>\n",
              "      <td>1</td>\n",
              "      <td>3</td>\n",
              "      <td>Heikkinen, Miss. Laina</td>\n",
              "      <td>female</td>\n",
              "      <td>26.0</td>\n",
              "      <td>0</td>\n",
              "      <td>0</td>\n",
              "      <td>STON/O2. 3101282</td>\n",
              "      <td>7.9250</td>\n",
              "      <td>NaN</td>\n",
              "      <td>S</td>\n",
              "    </tr>\n",
              "    <tr>\n",
              "      <th>3</th>\n",
              "      <td>4</td>\n",
              "      <td>1</td>\n",
              "      <td>1</td>\n",
              "      <td>Futrelle, Mrs. Jacques Heath (Lily May Peel)</td>\n",
              "      <td>female</td>\n",
              "      <td>35.0</td>\n",
              "      <td>1</td>\n",
              "      <td>0</td>\n",
              "      <td>113803</td>\n",
              "      <td>53.1000</td>\n",
              "      <td>C123</td>\n",
              "      <td>S</td>\n",
              "    </tr>\n",
              "    <tr>\n",
              "      <th>4</th>\n",
              "      <td>5</td>\n",
              "      <td>0</td>\n",
              "      <td>3</td>\n",
              "      <td>Allen, Mr. William Henry</td>\n",
              "      <td>male</td>\n",
              "      <td>35.0</td>\n",
              "      <td>0</td>\n",
              "      <td>0</td>\n",
              "      <td>373450</td>\n",
              "      <td>8.0500</td>\n",
              "      <td>NaN</td>\n",
              "      <td>S</td>\n",
              "    </tr>\n",
              "  </tbody>\n",
              "</table>\n",
              "</div>"
            ],
            "text/plain": [
              "   PassengerId  Survived  Pclass  \\\n",
              "0            1         0       3   \n",
              "1            2         1       1   \n",
              "2            3         1       3   \n",
              "3            4         1       1   \n",
              "4            5         0       3   \n",
              "\n",
              "                                                Name     Sex   Age  SibSp  \\\n",
              "0                            Braund, Mr. Owen Harris    male  22.0      1   \n",
              "1  Cumings, Mrs. John Bradley (Florence Briggs Th...  female  38.0      1   \n",
              "2                             Heikkinen, Miss. Laina  female  26.0      0   \n",
              "3       Futrelle, Mrs. Jacques Heath (Lily May Peel)  female  35.0      1   \n",
              "4                           Allen, Mr. William Henry    male  35.0      0   \n",
              "\n",
              "   Parch            Ticket     Fare Cabin Embarked  \n",
              "0      0         A/5 21171   7.2500   NaN        S  \n",
              "1      0          PC 17599  71.2833   C85        C  \n",
              "2      0  STON/O2. 3101282   7.9250   NaN        S  \n",
              "3      0            113803  53.1000  C123        S  \n",
              "4      0            373450   8.0500   NaN        S  "
            ]
          },
          "metadata": {
            "tags": []
          }
        },
        {
          "output_type": "stream",
          "text": [
            "\n",
            "\n",
            "Random five data points\n"
          ],
          "name": "stdout"
        },
        {
          "output_type": "display_data",
          "data": {
            "text/html": [
              "<div>\n",
              "<style scoped>\n",
              "    .dataframe tbody tr th:only-of-type {\n",
              "        vertical-align: middle;\n",
              "    }\n",
              "\n",
              "    .dataframe tbody tr th {\n",
              "        vertical-align: top;\n",
              "    }\n",
              "\n",
              "    .dataframe thead th {\n",
              "        text-align: right;\n",
              "    }\n",
              "</style>\n",
              "<table border=\"1\" class=\"dataframe\">\n",
              "  <thead>\n",
              "    <tr style=\"text-align: right;\">\n",
              "      <th></th>\n",
              "      <th>PassengerId</th>\n",
              "      <th>Survived</th>\n",
              "      <th>Pclass</th>\n",
              "      <th>Name</th>\n",
              "      <th>Sex</th>\n",
              "      <th>Age</th>\n",
              "      <th>SibSp</th>\n",
              "      <th>Parch</th>\n",
              "      <th>Ticket</th>\n",
              "      <th>Fare</th>\n",
              "      <th>Cabin</th>\n",
              "      <th>Embarked</th>\n",
              "    </tr>\n",
              "  </thead>\n",
              "  <tbody>\n",
              "    <tr>\n",
              "      <th>532</th>\n",
              "      <td>533</td>\n",
              "      <td>0</td>\n",
              "      <td>3</td>\n",
              "      <td>Elias, Mr. Joseph Jr</td>\n",
              "      <td>male</td>\n",
              "      <td>17.0</td>\n",
              "      <td>1</td>\n",
              "      <td>1</td>\n",
              "      <td>2690</td>\n",
              "      <td>7.2292</td>\n",
              "      <td>NaN</td>\n",
              "      <td>C</td>\n",
              "    </tr>\n",
              "    <tr>\n",
              "      <th>544</th>\n",
              "      <td>545</td>\n",
              "      <td>0</td>\n",
              "      <td>1</td>\n",
              "      <td>Douglas, Mr. Walter Donald</td>\n",
              "      <td>male</td>\n",
              "      <td>50.0</td>\n",
              "      <td>1</td>\n",
              "      <td>0</td>\n",
              "      <td>PC 17761</td>\n",
              "      <td>106.4250</td>\n",
              "      <td>C86</td>\n",
              "      <td>C</td>\n",
              "    </tr>\n",
              "    <tr>\n",
              "      <th>875</th>\n",
              "      <td>876</td>\n",
              "      <td>1</td>\n",
              "      <td>3</td>\n",
              "      <td>Najib, Miss. Adele Kiamie \"Jane\"</td>\n",
              "      <td>female</td>\n",
              "      <td>15.0</td>\n",
              "      <td>0</td>\n",
              "      <td>0</td>\n",
              "      <td>2667</td>\n",
              "      <td>7.2250</td>\n",
              "      <td>NaN</td>\n",
              "      <td>C</td>\n",
              "    </tr>\n",
              "    <tr>\n",
              "      <th>538</th>\n",
              "      <td>539</td>\n",
              "      <td>0</td>\n",
              "      <td>3</td>\n",
              "      <td>Risien, Mr. Samuel Beard</td>\n",
              "      <td>male</td>\n",
              "      <td>NaN</td>\n",
              "      <td>0</td>\n",
              "      <td>0</td>\n",
              "      <td>364498</td>\n",
              "      <td>14.5000</td>\n",
              "      <td>NaN</td>\n",
              "      <td>S</td>\n",
              "    </tr>\n",
              "    <tr>\n",
              "      <th>706</th>\n",
              "      <td>707</td>\n",
              "      <td>1</td>\n",
              "      <td>2</td>\n",
              "      <td>Kelly, Mrs. Florence \"Fannie\"</td>\n",
              "      <td>female</td>\n",
              "      <td>45.0</td>\n",
              "      <td>0</td>\n",
              "      <td>0</td>\n",
              "      <td>223596</td>\n",
              "      <td>13.5000</td>\n",
              "      <td>NaN</td>\n",
              "      <td>S</td>\n",
              "    </tr>\n",
              "  </tbody>\n",
              "</table>\n",
              "</div>"
            ],
            "text/plain": [
              "     PassengerId  Survived  Pclass                              Name     Sex  \\\n",
              "532          533         0       3              Elias, Mr. Joseph Jr    male   \n",
              "544          545         0       1        Douglas, Mr. Walter Donald    male   \n",
              "875          876         1       3  Najib, Miss. Adele Kiamie \"Jane\"  female   \n",
              "538          539         0       3          Risien, Mr. Samuel Beard    male   \n",
              "706          707         1       2     Kelly, Mrs. Florence \"Fannie\"  female   \n",
              "\n",
              "      Age  SibSp  Parch    Ticket      Fare Cabin Embarked  \n",
              "532  17.0      1      1      2690    7.2292   NaN        C  \n",
              "544  50.0      1      0  PC 17761  106.4250   C86        C  \n",
              "875  15.0      0      0      2667    7.2250   NaN        C  \n",
              "538   NaN      0      0    364498   14.5000   NaN        S  \n",
              "706  45.0      0      0    223596   13.5000   NaN        S  "
            ]
          },
          "metadata": {
            "tags": []
          }
        },
        {
          "output_type": "stream",
          "text": [
            "\n",
            "\n",
            "Last five data points\n"
          ],
          "name": "stdout"
        },
        {
          "output_type": "display_data",
          "data": {
            "text/html": [
              "<div>\n",
              "<style scoped>\n",
              "    .dataframe tbody tr th:only-of-type {\n",
              "        vertical-align: middle;\n",
              "    }\n",
              "\n",
              "    .dataframe tbody tr th {\n",
              "        vertical-align: top;\n",
              "    }\n",
              "\n",
              "    .dataframe thead th {\n",
              "        text-align: right;\n",
              "    }\n",
              "</style>\n",
              "<table border=\"1\" class=\"dataframe\">\n",
              "  <thead>\n",
              "    <tr style=\"text-align: right;\">\n",
              "      <th></th>\n",
              "      <th>PassengerId</th>\n",
              "      <th>Survived</th>\n",
              "      <th>Pclass</th>\n",
              "      <th>Name</th>\n",
              "      <th>Sex</th>\n",
              "      <th>Age</th>\n",
              "      <th>SibSp</th>\n",
              "      <th>Parch</th>\n",
              "      <th>Ticket</th>\n",
              "      <th>Fare</th>\n",
              "      <th>Cabin</th>\n",
              "      <th>Embarked</th>\n",
              "    </tr>\n",
              "  </thead>\n",
              "  <tbody>\n",
              "    <tr>\n",
              "      <th>886</th>\n",
              "      <td>887</td>\n",
              "      <td>0</td>\n",
              "      <td>2</td>\n",
              "      <td>Montvila, Rev. Juozas</td>\n",
              "      <td>male</td>\n",
              "      <td>27.0</td>\n",
              "      <td>0</td>\n",
              "      <td>0</td>\n",
              "      <td>211536</td>\n",
              "      <td>13.00</td>\n",
              "      <td>NaN</td>\n",
              "      <td>S</td>\n",
              "    </tr>\n",
              "    <tr>\n",
              "      <th>887</th>\n",
              "      <td>888</td>\n",
              "      <td>1</td>\n",
              "      <td>1</td>\n",
              "      <td>Graham, Miss. Margaret Edith</td>\n",
              "      <td>female</td>\n",
              "      <td>19.0</td>\n",
              "      <td>0</td>\n",
              "      <td>0</td>\n",
              "      <td>112053</td>\n",
              "      <td>30.00</td>\n",
              "      <td>B42</td>\n",
              "      <td>S</td>\n",
              "    </tr>\n",
              "    <tr>\n",
              "      <th>888</th>\n",
              "      <td>889</td>\n",
              "      <td>0</td>\n",
              "      <td>3</td>\n",
              "      <td>Johnston, Miss. Catherine Helen \"Carrie\"</td>\n",
              "      <td>female</td>\n",
              "      <td>NaN</td>\n",
              "      <td>1</td>\n",
              "      <td>2</td>\n",
              "      <td>W./C. 6607</td>\n",
              "      <td>23.45</td>\n",
              "      <td>NaN</td>\n",
              "      <td>S</td>\n",
              "    </tr>\n",
              "    <tr>\n",
              "      <th>889</th>\n",
              "      <td>890</td>\n",
              "      <td>1</td>\n",
              "      <td>1</td>\n",
              "      <td>Behr, Mr. Karl Howell</td>\n",
              "      <td>male</td>\n",
              "      <td>26.0</td>\n",
              "      <td>0</td>\n",
              "      <td>0</td>\n",
              "      <td>111369</td>\n",
              "      <td>30.00</td>\n",
              "      <td>C148</td>\n",
              "      <td>C</td>\n",
              "    </tr>\n",
              "    <tr>\n",
              "      <th>890</th>\n",
              "      <td>891</td>\n",
              "      <td>0</td>\n",
              "      <td>3</td>\n",
              "      <td>Dooley, Mr. Patrick</td>\n",
              "      <td>male</td>\n",
              "      <td>32.0</td>\n",
              "      <td>0</td>\n",
              "      <td>0</td>\n",
              "      <td>370376</td>\n",
              "      <td>7.75</td>\n",
              "      <td>NaN</td>\n",
              "      <td>Q</td>\n",
              "    </tr>\n",
              "  </tbody>\n",
              "</table>\n",
              "</div>"
            ],
            "text/plain": [
              "     PassengerId  Survived  Pclass                                      Name  \\\n",
              "886          887         0       2                     Montvila, Rev. Juozas   \n",
              "887          888         1       1              Graham, Miss. Margaret Edith   \n",
              "888          889         0       3  Johnston, Miss. Catherine Helen \"Carrie\"   \n",
              "889          890         1       1                     Behr, Mr. Karl Howell   \n",
              "890          891         0       3                       Dooley, Mr. Patrick   \n",
              "\n",
              "        Sex   Age  SibSp  Parch      Ticket   Fare Cabin Embarked  \n",
              "886    male  27.0      0      0      211536  13.00   NaN        S  \n",
              "887  female  19.0      0      0      112053  30.00   B42        S  \n",
              "888  female   NaN      1      2  W./C. 6607  23.45   NaN        S  \n",
              "889    male  26.0      0      0      111369  30.00  C148        C  \n",
              "890    male  32.0      0      0      370376   7.75   NaN        Q  "
            ]
          },
          "metadata": {
            "tags": []
          }
        },
        {
          "output_type": "stream",
          "text": [
            "\n",
            "\n",
            "Shape of  data set: (891, 12)\n",
            "\n",
            "\n",
            "Size of  data set: 10692\n",
            "\n",
            "\n",
            "Data Types\n",
            "Note: All Non-numerical features are identified as objects in pandas\n"
          ],
          "name": "stdout"
        },
        {
          "output_type": "display_data",
          "data": {
            "text/html": [
              "<div>\n",
              "<style scoped>\n",
              "    .dataframe tbody tr th:only-of-type {\n",
              "        vertical-align: middle;\n",
              "    }\n",
              "\n",
              "    .dataframe tbody tr th {\n",
              "        vertical-align: top;\n",
              "    }\n",
              "\n",
              "    .dataframe thead th {\n",
              "        text-align: right;\n",
              "    }\n",
              "</style>\n",
              "<table border=\"1\" class=\"dataframe\">\n",
              "  <thead>\n",
              "    <tr style=\"text-align: right;\">\n",
              "      <th></th>\n",
              "      <th>Data Type</th>\n",
              "    </tr>\n",
              "  </thead>\n",
              "  <tbody>\n",
              "    <tr>\n",
              "      <th>PassengerId</th>\n",
              "      <td>int64</td>\n",
              "    </tr>\n",
              "    <tr>\n",
              "      <th>Survived</th>\n",
              "      <td>int64</td>\n",
              "    </tr>\n",
              "    <tr>\n",
              "      <th>Pclass</th>\n",
              "      <td>int64</td>\n",
              "    </tr>\n",
              "    <tr>\n",
              "      <th>Name</th>\n",
              "      <td>object</td>\n",
              "    </tr>\n",
              "    <tr>\n",
              "      <th>Sex</th>\n",
              "      <td>object</td>\n",
              "    </tr>\n",
              "    <tr>\n",
              "      <th>Age</th>\n",
              "      <td>float64</td>\n",
              "    </tr>\n",
              "    <tr>\n",
              "      <th>SibSp</th>\n",
              "      <td>int64</td>\n",
              "    </tr>\n",
              "    <tr>\n",
              "      <th>Parch</th>\n",
              "      <td>int64</td>\n",
              "    </tr>\n",
              "    <tr>\n",
              "      <th>Ticket</th>\n",
              "      <td>object</td>\n",
              "    </tr>\n",
              "    <tr>\n",
              "      <th>Fare</th>\n",
              "      <td>float64</td>\n",
              "    </tr>\n",
              "    <tr>\n",
              "      <th>Cabin</th>\n",
              "      <td>object</td>\n",
              "    </tr>\n",
              "    <tr>\n",
              "      <th>Embarked</th>\n",
              "      <td>object</td>\n",
              "    </tr>\n",
              "  </tbody>\n",
              "</table>\n",
              "</div>"
            ],
            "text/plain": [
              "            Data Type\n",
              "PassengerId     int64\n",
              "Survived        int64\n",
              "Pclass          int64\n",
              "Name           object\n",
              "Sex            object\n",
              "Age           float64\n",
              "SibSp           int64\n",
              "Parch           int64\n",
              "Ticket         object\n",
              "Fare          float64\n",
              "Cabin          object\n",
              "Embarked       object"
            ]
          },
          "metadata": {
            "tags": []
          }
        },
        {
          "output_type": "stream",
          "text": [
            "\n",
            "\n",
            "Numerical Features in Data set\n",
            "['PassengerId', 'Survived', 'Pclass', 'Age', 'SibSp', 'Parch', 'Fare']\n",
            "\n",
            "\n",
            "Categorical Features in Data set\n"
          ],
          "name": "stdout"
        },
        {
          "output_type": "display_data",
          "data": {
            "text/plain": [
              "['Name', 'Sex', 'Ticket', 'Cabin', 'Embarked']"
            ]
          },
          "metadata": {
            "tags": []
          }
        },
        {
          "output_type": "stream",
          "text": [
            "\n",
            "\n",
            "Statistical Description of Columns\n"
          ],
          "name": "stdout"
        },
        {
          "output_type": "display_data",
          "data": {
            "text/html": [
              "<div>\n",
              "<style scoped>\n",
              "    .dataframe tbody tr th:only-of-type {\n",
              "        vertical-align: middle;\n",
              "    }\n",
              "\n",
              "    .dataframe tbody tr th {\n",
              "        vertical-align: top;\n",
              "    }\n",
              "\n",
              "    .dataframe thead th {\n",
              "        text-align: right;\n",
              "    }\n",
              "</style>\n",
              "<table border=\"1\" class=\"dataframe\">\n",
              "  <thead>\n",
              "    <tr style=\"text-align: right;\">\n",
              "      <th></th>\n",
              "      <th>PassengerId</th>\n",
              "      <th>Survived</th>\n",
              "      <th>Pclass</th>\n",
              "      <th>Age</th>\n",
              "      <th>SibSp</th>\n",
              "      <th>Parch</th>\n",
              "      <th>Fare</th>\n",
              "    </tr>\n",
              "  </thead>\n",
              "  <tbody>\n",
              "    <tr>\n",
              "      <th>count</th>\n",
              "      <td>891.000000</td>\n",
              "      <td>891.000000</td>\n",
              "      <td>891.000000</td>\n",
              "      <td>714.000000</td>\n",
              "      <td>891.000000</td>\n",
              "      <td>891.000000</td>\n",
              "      <td>891.000000</td>\n",
              "    </tr>\n",
              "    <tr>\n",
              "      <th>mean</th>\n",
              "      <td>446.000000</td>\n",
              "      <td>0.383838</td>\n",
              "      <td>2.308642</td>\n",
              "      <td>29.699118</td>\n",
              "      <td>0.523008</td>\n",
              "      <td>0.381594</td>\n",
              "      <td>32.204208</td>\n",
              "    </tr>\n",
              "    <tr>\n",
              "      <th>std</th>\n",
              "      <td>257.353842</td>\n",
              "      <td>0.486592</td>\n",
              "      <td>0.836071</td>\n",
              "      <td>14.526497</td>\n",
              "      <td>1.102743</td>\n",
              "      <td>0.806057</td>\n",
              "      <td>49.693429</td>\n",
              "    </tr>\n",
              "    <tr>\n",
              "      <th>min</th>\n",
              "      <td>1.000000</td>\n",
              "      <td>0.000000</td>\n",
              "      <td>1.000000</td>\n",
              "      <td>0.420000</td>\n",
              "      <td>0.000000</td>\n",
              "      <td>0.000000</td>\n",
              "      <td>0.000000</td>\n",
              "    </tr>\n",
              "    <tr>\n",
              "      <th>25%</th>\n",
              "      <td>223.500000</td>\n",
              "      <td>0.000000</td>\n",
              "      <td>2.000000</td>\n",
              "      <td>20.125000</td>\n",
              "      <td>0.000000</td>\n",
              "      <td>0.000000</td>\n",
              "      <td>7.910400</td>\n",
              "    </tr>\n",
              "    <tr>\n",
              "      <th>50%</th>\n",
              "      <td>446.000000</td>\n",
              "      <td>0.000000</td>\n",
              "      <td>3.000000</td>\n",
              "      <td>28.000000</td>\n",
              "      <td>0.000000</td>\n",
              "      <td>0.000000</td>\n",
              "      <td>14.454200</td>\n",
              "    </tr>\n",
              "    <tr>\n",
              "      <th>75%</th>\n",
              "      <td>668.500000</td>\n",
              "      <td>1.000000</td>\n",
              "      <td>3.000000</td>\n",
              "      <td>38.000000</td>\n",
              "      <td>1.000000</td>\n",
              "      <td>0.000000</td>\n",
              "      <td>31.000000</td>\n",
              "    </tr>\n",
              "    <tr>\n",
              "      <th>max</th>\n",
              "      <td>891.000000</td>\n",
              "      <td>1.000000</td>\n",
              "      <td>3.000000</td>\n",
              "      <td>80.000000</td>\n",
              "      <td>8.000000</td>\n",
              "      <td>6.000000</td>\n",
              "      <td>512.329200</td>\n",
              "    </tr>\n",
              "  </tbody>\n",
              "</table>\n",
              "</div>"
            ],
            "text/plain": [
              "       PassengerId    Survived      Pclass         Age       SibSp  \\\n",
              "count   891.000000  891.000000  891.000000  714.000000  891.000000   \n",
              "mean    446.000000    0.383838    2.308642   29.699118    0.523008   \n",
              "std     257.353842    0.486592    0.836071   14.526497    1.102743   \n",
              "min       1.000000    0.000000    1.000000    0.420000    0.000000   \n",
              "25%     223.500000    0.000000    2.000000   20.125000    0.000000   \n",
              "50%     446.000000    0.000000    3.000000   28.000000    0.000000   \n",
              "75%     668.500000    1.000000    3.000000   38.000000    1.000000   \n",
              "max     891.000000    1.000000    3.000000   80.000000    8.000000   \n",
              "\n",
              "            Parch        Fare  \n",
              "count  891.000000  891.000000  \n",
              "mean     0.381594   32.204208  \n",
              "std      0.806057   49.693429  \n",
              "min      0.000000    0.000000  \n",
              "25%      0.000000    7.910400  \n",
              "50%      0.000000   14.454200  \n",
              "75%      0.000000   31.000000  \n",
              "max      6.000000  512.329200  "
            ]
          },
          "metadata": {
            "tags": []
          }
        },
        {
          "output_type": "stream",
          "text": [
            "\n",
            "\n",
            "Description of Categorical Features\n"
          ],
          "name": "stdout"
        },
        {
          "output_type": "display_data",
          "data": {
            "text/html": [
              "<div>\n",
              "<style scoped>\n",
              "    .dataframe tbody tr th:only-of-type {\n",
              "        vertical-align: middle;\n",
              "    }\n",
              "\n",
              "    .dataframe tbody tr th {\n",
              "        vertical-align: top;\n",
              "    }\n",
              "\n",
              "    .dataframe thead th {\n",
              "        text-align: right;\n",
              "    }\n",
              "</style>\n",
              "<table border=\"1\" class=\"dataframe\">\n",
              "  <thead>\n",
              "    <tr style=\"text-align: right;\">\n",
              "      <th></th>\n",
              "      <th>count</th>\n",
              "      <th>unique</th>\n",
              "      <th>top</th>\n",
              "      <th>freq</th>\n",
              "    </tr>\n",
              "  </thead>\n",
              "  <tbody>\n",
              "    <tr>\n",
              "      <th>Name</th>\n",
              "      <td>891</td>\n",
              "      <td>891</td>\n",
              "      <td>Matthews, Mr. William John</td>\n",
              "      <td>1</td>\n",
              "    </tr>\n",
              "    <tr>\n",
              "      <th>Sex</th>\n",
              "      <td>891</td>\n",
              "      <td>2</td>\n",
              "      <td>male</td>\n",
              "      <td>577</td>\n",
              "    </tr>\n",
              "    <tr>\n",
              "      <th>Ticket</th>\n",
              "      <td>891</td>\n",
              "      <td>681</td>\n",
              "      <td>347082</td>\n",
              "      <td>7</td>\n",
              "    </tr>\n",
              "    <tr>\n",
              "      <th>Cabin</th>\n",
              "      <td>204</td>\n",
              "      <td>147</td>\n",
              "      <td>G6</td>\n",
              "      <td>4</td>\n",
              "    </tr>\n",
              "    <tr>\n",
              "      <th>Embarked</th>\n",
              "      <td>889</td>\n",
              "      <td>3</td>\n",
              "      <td>S</td>\n",
              "      <td>644</td>\n",
              "    </tr>\n",
              "  </tbody>\n",
              "</table>\n",
              "</div>"
            ],
            "text/plain": [
              "         count unique                         top freq\n",
              "Name       891    891  Matthews, Mr. William John    1\n",
              "Sex        891      2                        male  577\n",
              "Ticket     891    681                      347082    7\n",
              "Cabin      204    147                          G6    4\n",
              "Embarked   889      3                           S  644"
            ]
          },
          "metadata": {
            "tags": []
          }
        },
        {
          "output_type": "stream",
          "text": [
            "\n",
            "\n",
            "Unique class Count of Categorical features\n"
          ],
          "name": "stdout"
        },
        {
          "output_type": "display_data",
          "data": {
            "text/html": [
              "<style  type=\"text/css\" >\n",
              "    #T_c142aa76_8566_11ea_8aee_d89c67aef15arow0_col1 {\n",
              "            width:  10em;\n",
              "             height:  80%;\n",
              "            background:  linear-gradient(90deg,#d65f5f 100.0%, transparent 100.0%);\n",
              "        }    #T_c142aa76_8566_11ea_8aee_d89c67aef15arow1_col1 {\n",
              "            width:  10em;\n",
              "             height:  80%;\n",
              "            background:  linear-gradient(90deg,#d65f5f 0.2%, transparent 0.2%);\n",
              "        }    #T_c142aa76_8566_11ea_8aee_d89c67aef15arow2_col1 {\n",
              "            width:  10em;\n",
              "             height:  80%;\n",
              "            background:  linear-gradient(90deg,#d65f5f 76.4%, transparent 76.4%);\n",
              "        }    #T_c142aa76_8566_11ea_8aee_d89c67aef15arow3_col1 {\n",
              "            width:  10em;\n",
              "             height:  80%;\n",
              "            background:  linear-gradient(90deg,#d65f5f 16.6%, transparent 16.6%);\n",
              "        }    #T_c142aa76_8566_11ea_8aee_d89c67aef15arow4_col1 {\n",
              "            width:  10em;\n",
              "             height:  80%;\n",
              "            background:  linear-gradient(90deg,#d65f5f 0.4%, transparent 0.4%);\n",
              "        }</style><table id=\"T_c142aa76_8566_11ea_8aee_d89c67aef15a\" ><thead>    <tr>        <th class=\"blank level0\" ></th>        <th class=\"col_heading level0 col0\" >Feature</th>        <th class=\"col_heading level0 col1\" >Unique Count</th>    </tr></thead><tbody>\n",
              "                <tr>\n",
              "                        <th id=\"T_c142aa76_8566_11ea_8aee_d89c67aef15alevel0_row0\" class=\"row_heading level0 row0\" >0</th>\n",
              "                        <td id=\"T_c142aa76_8566_11ea_8aee_d89c67aef15arow0_col0\" class=\"data row0 col0\" >Name</td>\n",
              "                        <td id=\"T_c142aa76_8566_11ea_8aee_d89c67aef15arow0_col1\" class=\"data row0 col1\" >891</td>\n",
              "            </tr>\n",
              "            <tr>\n",
              "                        <th id=\"T_c142aa76_8566_11ea_8aee_d89c67aef15alevel0_row1\" class=\"row_heading level0 row1\" >1</th>\n",
              "                        <td id=\"T_c142aa76_8566_11ea_8aee_d89c67aef15arow1_col0\" class=\"data row1 col0\" >Sex</td>\n",
              "                        <td id=\"T_c142aa76_8566_11ea_8aee_d89c67aef15arow1_col1\" class=\"data row1 col1\" >2</td>\n",
              "            </tr>\n",
              "            <tr>\n",
              "                        <th id=\"T_c142aa76_8566_11ea_8aee_d89c67aef15alevel0_row2\" class=\"row_heading level0 row2\" >2</th>\n",
              "                        <td id=\"T_c142aa76_8566_11ea_8aee_d89c67aef15arow2_col0\" class=\"data row2 col0\" >Ticket</td>\n",
              "                        <td id=\"T_c142aa76_8566_11ea_8aee_d89c67aef15arow2_col1\" class=\"data row2 col1\" >681</td>\n",
              "            </tr>\n",
              "            <tr>\n",
              "                        <th id=\"T_c142aa76_8566_11ea_8aee_d89c67aef15alevel0_row3\" class=\"row_heading level0 row3\" >3</th>\n",
              "                        <td id=\"T_c142aa76_8566_11ea_8aee_d89c67aef15arow3_col0\" class=\"data row3 col0\" >Cabin</td>\n",
              "                        <td id=\"T_c142aa76_8566_11ea_8aee_d89c67aef15arow3_col1\" class=\"data row3 col1\" >148</td>\n",
              "            </tr>\n",
              "            <tr>\n",
              "                        <th id=\"T_c142aa76_8566_11ea_8aee_d89c67aef15alevel0_row4\" class=\"row_heading level0 row4\" >4</th>\n",
              "                        <td id=\"T_c142aa76_8566_11ea_8aee_d89c67aef15arow4_col0\" class=\"data row4 col0\" >Embarked</td>\n",
              "                        <td id=\"T_c142aa76_8566_11ea_8aee_d89c67aef15arow4_col1\" class=\"data row4 col1\" >4</td>\n",
              "            </tr>\n",
              "    </tbody></table>"
            ],
            "text/plain": [
              "<pandas.io.formats.style.Styler at 0x1701f431eb8>"
            ]
          },
          "metadata": {
            "tags": []
          }
        },
        {
          "output_type": "stream",
          "text": [
            "\n",
            "\n",
            "Missing Values in Data\n"
          ],
          "name": "stdout"
        },
        {
          "output_type": "display_data",
          "data": {
            "text/html": [
              "<div>\n",
              "<style scoped>\n",
              "    .dataframe tbody tr th:only-of-type {\n",
              "        vertical-align: middle;\n",
              "    }\n",
              "\n",
              "    .dataframe tbody tr th {\n",
              "        vertical-align: top;\n",
              "    }\n",
              "\n",
              "    .dataframe thead th {\n",
              "        text-align: right;\n",
              "    }\n",
              "</style>\n",
              "<table border=\"1\" class=\"dataframe\">\n",
              "  <thead>\n",
              "    <tr style=\"text-align: right;\">\n",
              "      <th></th>\n",
              "      <th>features</th>\n",
              "      <th>missing_counts</th>\n",
              "      <th>missing_percent</th>\n",
              "    </tr>\n",
              "  </thead>\n",
              "  <tbody>\n",
              "    <tr>\n",
              "      <th>0</th>\n",
              "      <td>PassengerId</td>\n",
              "      <td>0</td>\n",
              "      <td>0.0</td>\n",
              "    </tr>\n",
              "    <tr>\n",
              "      <th>1</th>\n",
              "      <td>Survived</td>\n",
              "      <td>0</td>\n",
              "      <td>0.0</td>\n",
              "    </tr>\n",
              "    <tr>\n",
              "      <th>2</th>\n",
              "      <td>Pclass</td>\n",
              "      <td>0</td>\n",
              "      <td>0.0</td>\n",
              "    </tr>\n",
              "    <tr>\n",
              "      <th>3</th>\n",
              "      <td>Name</td>\n",
              "      <td>0</td>\n",
              "      <td>0.0</td>\n",
              "    </tr>\n",
              "    <tr>\n",
              "      <th>4</th>\n",
              "      <td>Sex</td>\n",
              "      <td>0</td>\n",
              "      <td>0.0</td>\n",
              "    </tr>\n",
              "    <tr>\n",
              "      <th>5</th>\n",
              "      <td>Age</td>\n",
              "      <td>177</td>\n",
              "      <td>19.9</td>\n",
              "    </tr>\n",
              "    <tr>\n",
              "      <th>6</th>\n",
              "      <td>SibSp</td>\n",
              "      <td>0</td>\n",
              "      <td>0.0</td>\n",
              "    </tr>\n",
              "    <tr>\n",
              "      <th>7</th>\n",
              "      <td>Parch</td>\n",
              "      <td>0</td>\n",
              "      <td>0.0</td>\n",
              "    </tr>\n",
              "    <tr>\n",
              "      <th>8</th>\n",
              "      <td>Ticket</td>\n",
              "      <td>0</td>\n",
              "      <td>0.0</td>\n",
              "    </tr>\n",
              "    <tr>\n",
              "      <th>9</th>\n",
              "      <td>Fare</td>\n",
              "      <td>0</td>\n",
              "      <td>0.0</td>\n",
              "    </tr>\n",
              "    <tr>\n",
              "      <th>10</th>\n",
              "      <td>Cabin</td>\n",
              "      <td>687</td>\n",
              "      <td>77.1</td>\n",
              "    </tr>\n",
              "    <tr>\n",
              "      <th>11</th>\n",
              "      <td>Embarked</td>\n",
              "      <td>2</td>\n",
              "      <td>0.2</td>\n",
              "    </tr>\n",
              "  </tbody>\n",
              "</table>\n",
              "</div>"
            ],
            "text/plain": [
              "       features  missing_counts  missing_percent\n",
              "0   PassengerId               0              0.0\n",
              "1      Survived               0              0.0\n",
              "2        Pclass               0              0.0\n",
              "3          Name               0              0.0\n",
              "4           Sex               0              0.0\n",
              "5           Age             177             19.9\n",
              "6         SibSp               0              0.0\n",
              "7         Parch               0              0.0\n",
              "8        Ticket               0              0.0\n",
              "9          Fare               0              0.0\n",
              "10        Cabin             687             77.1\n",
              "11     Embarked               2              0.2"
            ]
          },
          "metadata": {
            "tags": []
          }
        }
      ]
    },
    {
      "cell_type": "markdown",
      "metadata": {
        "id": "_V60zV9IHejb",
        "colab_type": "text"
      },
      "source": [
        "> The cell below will check for the uniformity in the data distribution of the training set and test set"
      ]
    },
    {
      "cell_type": "code",
      "metadata": {
        "id": "z0rsdaW2Hejd",
        "colab_type": "code",
        "colab": {},
        "outputId": "b4d7a6ea-4293-4a7f-bb28-80b514b11ef3"
      },
      "source": [
        "ds.structdata.check_train_test_set(train_set, test_set,'Name', 'Age')"
      ],
      "execution_count": 0,
      "outputs": [
        {
          "output_type": "stream",
          "text": [
            "There are 891 training rows and 418 test rows.\n",
            "There are 12 training columns and 11 test columns.\n",
            "Id field is unique.\n",
            "Train and test sets IDs are the same.\n",
            "\n",
            "\n"
          ],
          "name": "stdout"
        },
        {
          "output_type": "display_data",
          "data": {
            "image/png": "[encoded data removed]",
            "text/plain": [
              "<Figure size 432x288 with 1 Axes>"
            ]
          },
          "metadata": {
            "tags": [],
            "needs_background": "light"
          }
        }
      ]
    },
    {
      "cell_type": "markdown",
      "metadata": {
        "id": "7vpzCSBuHejt",
        "colab_type": "text"
      },
      "source": [
        "From the chart we can see that both data sets are distributed in a like manner. The 'Name' and 'Age' were used to represent the categorical and Numeric data respectively. Also as the Name data point has 891 unique inputs, when relating it with the Age distributions, the chart can tell if either the train or test set is more concentrated with some Age interval. However, both datasets seem uniformly distributed.  "
      ]
    },
    {
      "cell_type": "markdown",
      "metadata": {
        "id": "T3kdDyMAHejv",
        "colab_type": "text"
      },
      "source": [
        ">The Datasist library, has a way of automatically locating missing data and filling them with the right values. This is applicable for the Categorical and Numerical data."
      ]
    },
    {
      "cell_type": "code",
      "metadata": {
        "id": "9vtRsJUZHejx",
        "colab_type": "code",
        "colab": {}
      },
      "source": [
        "training_set = ds.feature_engineering.fill_missing_cats(train_set)\n",
        "training_set = ds.feature_engineering.fill_missing_num(train_set)\n",
        "\n",
        "testing_set = ds.feature_engineering.fill_missing_cats(test_set)\n",
        "testing_set = ds.feature_engineering.fill_missing_num(test_set)"
      ],
      "execution_count": 0,
      "outputs": []
    },
    {
      "cell_type": "code",
      "metadata": {
        "id": "hDfInSqpHekF",
        "colab_type": "code",
        "colab": {},
        "outputId": "3d69c6a2-3a12-4baf-8632-1796d3dfa452"
      },
      "source": [
        "ds.structdata.display_missing(training_set)"
      ],
      "execution_count": 0,
      "outputs": [
        {
          "output_type": "execute_result",
          "data": {
            "text/html": [
              "<div>\n",
              "<style scoped>\n",
              "    .dataframe tbody tr th:only-of-type {\n",
              "        vertical-align: middle;\n",
              "    }\n",
              "\n",
              "    .dataframe tbody tr th {\n",
              "        vertical-align: top;\n",
              "    }\n",
              "\n",
              "    .dataframe thead th {\n",
              "        text-align: right;\n",
              "    }\n",
              "</style>\n",
              "<table border=\"1\" class=\"dataframe\">\n",
              "  <thead>\n",
              "    <tr style=\"text-align: right;\">\n",
              "      <th></th>\n",
              "      <th>features</th>\n",
              "      <th>missing_counts</th>\n",
              "      <th>missing_percent</th>\n",
              "    </tr>\n",
              "  </thead>\n",
              "  <tbody>\n",
              "    <tr>\n",
              "      <th>0</th>\n",
              "      <td>PassengerId</td>\n",
              "      <td>0</td>\n",
              "      <td>0.0</td>\n",
              "    </tr>\n",
              "    <tr>\n",
              "      <th>1</th>\n",
              "      <td>Survived</td>\n",
              "      <td>0</td>\n",
              "      <td>0.0</td>\n",
              "    </tr>\n",
              "    <tr>\n",
              "      <th>2</th>\n",
              "      <td>Pclass</td>\n",
              "      <td>0</td>\n",
              "      <td>0.0</td>\n",
              "    </tr>\n",
              "    <tr>\n",
              "      <th>3</th>\n",
              "      <td>Name</td>\n",
              "      <td>0</td>\n",
              "      <td>0.0</td>\n",
              "    </tr>\n",
              "    <tr>\n",
              "      <th>4</th>\n",
              "      <td>Sex</td>\n",
              "      <td>0</td>\n",
              "      <td>0.0</td>\n",
              "    </tr>\n",
              "    <tr>\n",
              "      <th>5</th>\n",
              "      <td>Age</td>\n",
              "      <td>0</td>\n",
              "      <td>0.0</td>\n",
              "    </tr>\n",
              "    <tr>\n",
              "      <th>6</th>\n",
              "      <td>SibSp</td>\n",
              "      <td>0</td>\n",
              "      <td>0.0</td>\n",
              "    </tr>\n",
              "    <tr>\n",
              "      <th>7</th>\n",
              "      <td>Parch</td>\n",
              "      <td>0</td>\n",
              "      <td>0.0</td>\n",
              "    </tr>\n",
              "    <tr>\n",
              "      <th>8</th>\n",
              "      <td>Ticket</td>\n",
              "      <td>0</td>\n",
              "      <td>0.0</td>\n",
              "    </tr>\n",
              "    <tr>\n",
              "      <th>9</th>\n",
              "      <td>Fare</td>\n",
              "      <td>0</td>\n",
              "      <td>0.0</td>\n",
              "    </tr>\n",
              "    <tr>\n",
              "      <th>10</th>\n",
              "      <td>Cabin</td>\n",
              "      <td>687</td>\n",
              "      <td>77.1</td>\n",
              "    </tr>\n",
              "    <tr>\n",
              "      <th>11</th>\n",
              "      <td>Embarked</td>\n",
              "      <td>2</td>\n",
              "      <td>0.2</td>\n",
              "    </tr>\n",
              "  </tbody>\n",
              "</table>\n",
              "</div>"
            ],
            "text/plain": [
              "       features  missing_counts  missing_percent\n",
              "0   PassengerId               0              0.0\n",
              "1      Survived               0              0.0\n",
              "2        Pclass               0              0.0\n",
              "3          Name               0              0.0\n",
              "4           Sex               0              0.0\n",
              "5           Age               0              0.0\n",
              "6         SibSp               0              0.0\n",
              "7         Parch               0              0.0\n",
              "8        Ticket               0              0.0\n",
              "9          Fare               0              0.0\n",
              "10        Cabin             687             77.1\n",
              "11     Embarked               2              0.2"
            ]
          },
          "metadata": {
            "tags": []
          },
          "execution_count": 8
        }
      ]
    },
    {
      "cell_type": "code",
      "metadata": {
        "id": "5n7uH6YrHekg",
        "colab_type": "code",
        "colab": {},
        "outputId": "f1e1dc1f-c697-496a-9068-367a890b410e"
      },
      "source": [
        "ds.structdata.display_missing(testing_set)"
      ],
      "execution_count": 0,
      "outputs": [
        {
          "output_type": "execute_result",
          "data": {
            "text/html": [
              "<div>\n",
              "<style scoped>\n",
              "    .dataframe tbody tr th:only-of-type {\n",
              "        vertical-align: middle;\n",
              "    }\n",
              "\n",
              "    .dataframe tbody tr th {\n",
              "        vertical-align: top;\n",
              "    }\n",
              "\n",
              "    .dataframe thead th {\n",
              "        text-align: right;\n",
              "    }\n",
              "</style>\n",
              "<table border=\"1\" class=\"dataframe\">\n",
              "  <thead>\n",
              "    <tr style=\"text-align: right;\">\n",
              "      <th></th>\n",
              "      <th>features</th>\n",
              "      <th>missing_counts</th>\n",
              "      <th>missing_percent</th>\n",
              "    </tr>\n",
              "  </thead>\n",
              "  <tbody>\n",
              "    <tr>\n",
              "      <th>0</th>\n",
              "      <td>PassengerId</td>\n",
              "      <td>0</td>\n",
              "      <td>0.0</td>\n",
              "    </tr>\n",
              "    <tr>\n",
              "      <th>1</th>\n",
              "      <td>Pclass</td>\n",
              "      <td>0</td>\n",
              "      <td>0.0</td>\n",
              "    </tr>\n",
              "    <tr>\n",
              "      <th>2</th>\n",
              "      <td>Name</td>\n",
              "      <td>0</td>\n",
              "      <td>0.0</td>\n",
              "    </tr>\n",
              "    <tr>\n",
              "      <th>3</th>\n",
              "      <td>Sex</td>\n",
              "      <td>0</td>\n",
              "      <td>0.0</td>\n",
              "    </tr>\n",
              "    <tr>\n",
              "      <th>4</th>\n",
              "      <td>Age</td>\n",
              "      <td>0</td>\n",
              "      <td>0.0</td>\n",
              "    </tr>\n",
              "    <tr>\n",
              "      <th>5</th>\n",
              "      <td>SibSp</td>\n",
              "      <td>0</td>\n",
              "      <td>0.0</td>\n",
              "    </tr>\n",
              "    <tr>\n",
              "      <th>6</th>\n",
              "      <td>Parch</td>\n",
              "      <td>0</td>\n",
              "      <td>0.0</td>\n",
              "    </tr>\n",
              "    <tr>\n",
              "      <th>7</th>\n",
              "      <td>Ticket</td>\n",
              "      <td>0</td>\n",
              "      <td>0.0</td>\n",
              "    </tr>\n",
              "    <tr>\n",
              "      <th>8</th>\n",
              "      <td>Fare</td>\n",
              "      <td>0</td>\n",
              "      <td>0.0</td>\n",
              "    </tr>\n",
              "    <tr>\n",
              "      <th>9</th>\n",
              "      <td>Cabin</td>\n",
              "      <td>327</td>\n",
              "      <td>78.2</td>\n",
              "    </tr>\n",
              "    <tr>\n",
              "      <th>10</th>\n",
              "      <td>Embarked</td>\n",
              "      <td>0</td>\n",
              "      <td>0.0</td>\n",
              "    </tr>\n",
              "  </tbody>\n",
              "</table>\n",
              "</div>"
            ],
            "text/plain": [
              "       features  missing_counts  missing_percent\n",
              "0   PassengerId               0              0.0\n",
              "1        Pclass               0              0.0\n",
              "2          Name               0              0.0\n",
              "3           Sex               0              0.0\n",
              "4           Age               0              0.0\n",
              "5         SibSp               0              0.0\n",
              "6         Parch               0              0.0\n",
              "7        Ticket               0              0.0\n",
              "8          Fare               0              0.0\n",
              "9         Cabin             327             78.2\n",
              "10     Embarked               0              0.0"
            ]
          },
          "metadata": {
            "tags": []
          },
          "execution_count": 9
        }
      ]
    },
    {
      "cell_type": "code",
      "metadata": {
        "id": "HIXWd3I9Heko",
        "colab_type": "code",
        "colab": {}
      },
      "source": [
        "training_set = ds.feature_engineering.fill_missing_cats(training_set)\n",
        "training_set = ds.feature_engineering.fill_missing_num(training_set)\n",
        "\n",
        "testing_set = ds.feature_engineering.fill_missing_cats(testing_set)\n",
        "testing_set = ds.feature_engineering.fill_missing_num(testing_set)"
      ],
      "execution_count": 0,
      "outputs": []
    },
    {
      "cell_type": "code",
      "metadata": {
        "id": "P6yx8zHHHekv",
        "colab_type": "code",
        "colab": {},
        "outputId": "9c97a508-5cd9-46bc-c0b5-116e48698d64"
      },
      "source": [
        "ds.structdata.display_missing(training_set)"
      ],
      "execution_count": 0,
      "outputs": [
        {
          "output_type": "execute_result",
          "data": {
            "text/html": [
              "<div>\n",
              "<style scoped>\n",
              "    .dataframe tbody tr th:only-of-type {\n",
              "        vertical-align: middle;\n",
              "    }\n",
              "\n",
              "    .dataframe tbody tr th {\n",
              "        vertical-align: top;\n",
              "    }\n",
              "\n",
              "    .dataframe thead th {\n",
              "        text-align: right;\n",
              "    }\n",
              "</style>\n",
              "<table border=\"1\" class=\"dataframe\">\n",
              "  <thead>\n",
              "    <tr style=\"text-align: right;\">\n",
              "      <th></th>\n",
              "      <th>features</th>\n",
              "      <th>missing_counts</th>\n",
              "      <th>missing_percent</th>\n",
              "    </tr>\n",
              "  </thead>\n",
              "  <tbody>\n",
              "    <tr>\n",
              "      <th>0</th>\n",
              "      <td>PassengerId</td>\n",
              "      <td>0</td>\n",
              "      <td>0.0</td>\n",
              "    </tr>\n",
              "    <tr>\n",
              "      <th>1</th>\n",
              "      <td>Survived</td>\n",
              "      <td>0</td>\n",
              "      <td>0.0</td>\n",
              "    </tr>\n",
              "    <tr>\n",
              "      <th>2</th>\n",
              "      <td>Pclass</td>\n",
              "      <td>0</td>\n",
              "      <td>0.0</td>\n",
              "    </tr>\n",
              "    <tr>\n",
              "      <th>3</th>\n",
              "      <td>Name</td>\n",
              "      <td>0</td>\n",
              "      <td>0.0</td>\n",
              "    </tr>\n",
              "    <tr>\n",
              "      <th>4</th>\n",
              "      <td>Sex</td>\n",
              "      <td>0</td>\n",
              "      <td>0.0</td>\n",
              "    </tr>\n",
              "    <tr>\n",
              "      <th>5</th>\n",
              "      <td>Age</td>\n",
              "      <td>0</td>\n",
              "      <td>0.0</td>\n",
              "    </tr>\n",
              "    <tr>\n",
              "      <th>6</th>\n",
              "      <td>SibSp</td>\n",
              "      <td>0</td>\n",
              "      <td>0.0</td>\n",
              "    </tr>\n",
              "    <tr>\n",
              "      <th>7</th>\n",
              "      <td>Parch</td>\n",
              "      <td>0</td>\n",
              "      <td>0.0</td>\n",
              "    </tr>\n",
              "    <tr>\n",
              "      <th>8</th>\n",
              "      <td>Ticket</td>\n",
              "      <td>0</td>\n",
              "      <td>0.0</td>\n",
              "    </tr>\n",
              "    <tr>\n",
              "      <th>9</th>\n",
              "      <td>Fare</td>\n",
              "      <td>0</td>\n",
              "      <td>0.0</td>\n",
              "    </tr>\n",
              "    <tr>\n",
              "      <th>10</th>\n",
              "      <td>Cabin</td>\n",
              "      <td>0</td>\n",
              "      <td>0.0</td>\n",
              "    </tr>\n",
              "    <tr>\n",
              "      <th>11</th>\n",
              "      <td>Embarked</td>\n",
              "      <td>0</td>\n",
              "      <td>0.0</td>\n",
              "    </tr>\n",
              "  </tbody>\n",
              "</table>\n",
              "</div>"
            ],
            "text/plain": [
              "       features  missing_counts  missing_percent\n",
              "0   PassengerId               0              0.0\n",
              "1      Survived               0              0.0\n",
              "2        Pclass               0              0.0\n",
              "3          Name               0              0.0\n",
              "4           Sex               0              0.0\n",
              "5           Age               0              0.0\n",
              "6         SibSp               0              0.0\n",
              "7         Parch               0              0.0\n",
              "8        Ticket               0              0.0\n",
              "9          Fare               0              0.0\n",
              "10        Cabin               0              0.0\n",
              "11     Embarked               0              0.0"
            ]
          },
          "metadata": {
            "tags": []
          },
          "execution_count": 11
        }
      ]
    },
    {
      "cell_type": "code",
      "metadata": {
        "id": "3sDBa7k6Hek-",
        "colab_type": "code",
        "colab": {},
        "outputId": "f3d61292-7df0-4dc9-f019-9de39af06db3"
      },
      "source": [
        "ds.structdata.display_missing(testing_set)"
      ],
      "execution_count": 0,
      "outputs": [
        {
          "output_type": "execute_result",
          "data": {
            "text/html": [
              "<div>\n",
              "<style scoped>\n",
              "    .dataframe tbody tr th:only-of-type {\n",
              "        vertical-align: middle;\n",
              "    }\n",
              "\n",
              "    .dataframe tbody tr th {\n",
              "        vertical-align: top;\n",
              "    }\n",
              "\n",
              "    .dataframe thead th {\n",
              "        text-align: right;\n",
              "    }\n",
              "</style>\n",
              "<table border=\"1\" class=\"dataframe\">\n",
              "  <thead>\n",
              "    <tr style=\"text-align: right;\">\n",
              "      <th></th>\n",
              "      <th>features</th>\n",
              "      <th>missing_counts</th>\n",
              "      <th>missing_percent</th>\n",
              "    </tr>\n",
              "  </thead>\n",
              "  <tbody>\n",
              "    <tr>\n",
              "      <th>0</th>\n",
              "      <td>PassengerId</td>\n",
              "      <td>0</td>\n",
              "      <td>0.0</td>\n",
              "    </tr>\n",
              "    <tr>\n",
              "      <th>1</th>\n",
              "      <td>Pclass</td>\n",
              "      <td>0</td>\n",
              "      <td>0.0</td>\n",
              "    </tr>\n",
              "    <tr>\n",
              "      <th>2</th>\n",
              "      <td>Name</td>\n",
              "      <td>0</td>\n",
              "      <td>0.0</td>\n",
              "    </tr>\n",
              "    <tr>\n",
              "      <th>3</th>\n",
              "      <td>Sex</td>\n",
              "      <td>0</td>\n",
              "      <td>0.0</td>\n",
              "    </tr>\n",
              "    <tr>\n",
              "      <th>4</th>\n",
              "      <td>Age</td>\n",
              "      <td>0</td>\n",
              "      <td>0.0</td>\n",
              "    </tr>\n",
              "    <tr>\n",
              "      <th>5</th>\n",
              "      <td>SibSp</td>\n",
              "      <td>0</td>\n",
              "      <td>0.0</td>\n",
              "    </tr>\n",
              "    <tr>\n",
              "      <th>6</th>\n",
              "      <td>Parch</td>\n",
              "      <td>0</td>\n",
              "      <td>0.0</td>\n",
              "    </tr>\n",
              "    <tr>\n",
              "      <th>7</th>\n",
              "      <td>Ticket</td>\n",
              "      <td>0</td>\n",
              "      <td>0.0</td>\n",
              "    </tr>\n",
              "    <tr>\n",
              "      <th>8</th>\n",
              "      <td>Fare</td>\n",
              "      <td>0</td>\n",
              "      <td>0.0</td>\n",
              "    </tr>\n",
              "    <tr>\n",
              "      <th>9</th>\n",
              "      <td>Cabin</td>\n",
              "      <td>0</td>\n",
              "      <td>0.0</td>\n",
              "    </tr>\n",
              "    <tr>\n",
              "      <th>10</th>\n",
              "      <td>Embarked</td>\n",
              "      <td>0</td>\n",
              "      <td>0.0</td>\n",
              "    </tr>\n",
              "  </tbody>\n",
              "</table>\n",
              "</div>"
            ],
            "text/plain": [
              "       features  missing_counts  missing_percent\n",
              "0   PassengerId               0              0.0\n",
              "1        Pclass               0              0.0\n",
              "2          Name               0              0.0\n",
              "3           Sex               0              0.0\n",
              "4           Age               0              0.0\n",
              "5         SibSp               0              0.0\n",
              "6         Parch               0              0.0\n",
              "7        Ticket               0              0.0\n",
              "8          Fare               0              0.0\n",
              "9         Cabin               0              0.0\n",
              "10     Embarked               0              0.0"
            ]
          },
          "metadata": {
            "tags": []
          },
          "execution_count": 12
        }
      ]
    },
    {
      "cell_type": "markdown",
      "metadata": {
        "id": "NTb-o95VHelG",
        "colab_type": "text"
      },
      "source": [
        "From the above table, it can be shown that all missing values have been filled."
      ]
    },
    {
      "cell_type": "markdown",
      "metadata": {
        "id": "Xf9qbmdKHelH",
        "colab_type": "text"
      },
      "source": [
        ">### Data Processing and Visualizations"
      ]
    },
    {
      "cell_type": "code",
      "metadata": {
        "id": "4kvxwIsGHelI",
        "colab_type": "code",
        "colab": {},
        "outputId": "df251c3d-66a5-489d-f5fc-8afbed69ce0b"
      },
      "source": [
        "sns.countplot(training_set['Survived'])"
      ],
      "execution_count": 0,
      "outputs": [
        {
          "output_type": "execute_result",
          "data": {
            "text/plain": [
              "<matplotlib.axes._subplots.AxesSubplot at 0x1701f9179b0>"
            ]
          },
          "metadata": {
            "tags": []
          },
          "execution_count": 13
        },
        {
          "output_type": "display_data",
          "data": {
            "image/png": "[encoded data removed]",
            "text/plain": [
              "<Figure size 432x288 with 1 Axes>"
            ]
          },
          "metadata": {
            "tags": [],
            "needs_background": "light"
          }
        }
      ]
    },
    {
      "cell_type": "markdown",
      "metadata": {
        "id": "7LXimG5THelR",
        "colab_type": "text"
      },
      "source": [
        "Fig. 1"
      ]
    },
    {
      "cell_type": "code",
      "metadata": {
        "id": "o_cOeSliHelS",
        "colab_type": "code",
        "colab": {},
        "outputId": "dd731bda-8bfd-4666-da7a-8779d44a73e7"
      },
      "source": [
        "training_set['Survived'].value_counts()"
      ],
      "execution_count": 0,
      "outputs": [
        {
          "output_type": "execute_result",
          "data": {
            "text/plain": [
              "0    549\n",
              "1    342\n",
              "Name: Survived, dtype: int64"
            ]
          },
          "metadata": {
            "tags": []
          },
          "execution_count": 14
        }
      ]
    },
    {
      "cell_type": "code",
      "metadata": {
        "id": "XMNC7gG_HelZ",
        "colab_type": "code",
        "colab": {},
        "outputId": "bace9a3e-235d-4234-c575-81ee45a7729e"
      },
      "source": [
        "survived = 'survived'\n",
        "not_survived = 'not survived'\n",
        "fig, axes = plt.subplots(nrows=1, ncols=2,figsize=(20, 4))\n",
        "women = training_set[training_set['Sex']=='female']\n",
        "men = training_set[training_set['Sex']=='male']\n",
        "ax = sns.distplot(women[women['Survived']==1].Age.dropna(), bins=18, label = survived, ax = axes[0], kde =False)\n",
        "ax = sns.distplot(women[women['Survived']==0].Age.dropna(), bins=40, label = not_survived, ax = axes[0], kde =False)\n",
        "ax.legend()\n",
        "ax.set_title('Female')\n",
        "ax = sns.distplot(men[men['Survived']==1].Age.dropna(), bins=18, label = survived, ax = axes[1], kde = False)\n",
        "ax = sns.distplot(men[men['Survived']==0].Age.dropna(), bins=40, label = not_survived, ax = axes[1], kde = False)\n",
        "ax.legend()\n",
        "_ = ax.set_title('Male')"
      ],
      "execution_count": 0,
      "outputs": [
        {
          "output_type": "display_data",
          "data": {
            "image/png": "[encoded data removed]",
            "text/plain": [
              "<Figure size 1440x288 with 2 Axes>"
            ]
          },
          "metadata": {
            "tags": [],
            "needs_background": "light"
          }
        }
      ]
    },
    {
      "cell_type": "markdown",
      "metadata": {
        "id": "ocNA0KIRHeli",
        "colab_type": "text"
      },
      "source": [
        "Fig. 2"
      ]
    },
    {
      "cell_type": "markdown",
      "metadata": {
        "id": "ARYn_NOKHelj",
        "colab_type": "text"
      },
      "source": [
        ">The total ratio of survivals to lives lost is roughly about 1 : 2. In Fig 2, it illustrated that within the percentage of the survived, women survived more."
      ]
    },
    {
      "cell_type": "code",
      "metadata": {
        "id": "hkMyZfXyHelk",
        "colab_type": "code",
        "colab": {},
        "outputId": "29a1b7a0-6196-4c5f-9e8a-839d1f94a660"
      },
      "source": [
        "plt.figure(figsize = (15, 5))\n",
        "sns.distplot(training_set['Age'])"
      ],
      "execution_count": 0,
      "outputs": [
        {
          "output_type": "execute_result",
          "data": {
            "text/plain": [
              "<matplotlib.axes._subplots.AxesSubplot at 0x1701fa20470>"
            ]
          },
          "metadata": {
            "tags": []
          },
          "execution_count": 16
        },
        {
          "output_type": "display_data",
          "data": {
            "image/png": "[encoded data removed]",
            "text/plain": [
              "<Figure size 1080x360 with 1 Axes>"
            ]
          },
          "metadata": {
            "tags": [],
            "needs_background": "light"
          }
        }
      ]
    },
    {
      "cell_type": "markdown",
      "metadata": {
        "id": "cCy0-VoZHelt",
        "colab_type": "text"
      },
      "source": [
        "Fig. 3"
      ]
    },
    {
      "cell_type": "markdown",
      "metadata": {
        "id": "X83RowS5Helw",
        "colab_type": "text"
      },
      "source": [
        "Most of the people on the Titanic ship ranged from 20 to 40 years. In the cell below, the Ages will be grouped"
      ]
    },
    {
      "cell_type": "code",
      "metadata": {
        "id": "4U6jRqlZHelx",
        "colab_type": "code",
        "colab": {}
      },
      "source": [
        "data = [training_set, testing_set]\n",
        "\n",
        "for dataset in data:\n",
        "    dataset['Age'] = dataset['Age'].astype(int)\n",
        "    \n",
        "    dataset.loc[ dataset['Age'] <= 11, 'Age'] = 0\n",
        "    dataset.loc[(dataset['Age'] > 11) & (dataset['Age'] <= 18), 'Age'] = 1\n",
        "    dataset.loc[(dataset['Age'] > 18) & (dataset['Age'] <= 25), 'Age'] = 2\n",
        "    dataset.loc[(dataset['Age'] > 25) & (dataset['Age'] <= 30), 'Age'] = 3\n",
        "    dataset.loc[(dataset['Age'] > 30) & (dataset['Age'] <= 40), 'Age'] = 4\n",
        "    dataset.loc[(dataset['Age'] > 40) & (dataset['Age'] <= 60), 'Age'] = 5\n",
        "    dataset.loc[dataset['Age'] > 60, 'Age'] = 6"
      ],
      "execution_count": 0,
      "outputs": []
    },
    {
      "cell_type": "code",
      "metadata": {
        "id": "tuDK91BzHel8",
        "colab_type": "code",
        "colab": {},
        "outputId": "02fb6127-d64b-4c44-b40b-edfa0f9fbaf4"
      },
      "source": [
        "sns.barplot(x = 'Age', y = 'Survived', data = training_set)\n",
        "\n",
        "# df_ = training_set.groupby('Sex').sum()\n",
        "# #df.reset_index(inplace=True)\n",
        "# sns.barplot(x='Age', y='Survived', data=df_)"
      ],
      "execution_count": 0,
      "outputs": [
        {
          "output_type": "execute_result",
          "data": {
            "text/plain": [
              "<matplotlib.axes._subplots.AxesSubplot at 0x1701fd9fb70>"
            ]
          },
          "metadata": {
            "tags": []
          },
          "execution_count": 18
        },
        {
          "output_type": "display_data",
          "data": {
            "image/png": "[encoded data removed]",
            "text/plain": [
              "<Figure size 432x288 with 1 Axes>"
            ]
          },
          "metadata": {
            "tags": [],
            "needs_background": "light"
          }
        }
      ]
    },
    {
      "cell_type": "markdown",
      "metadata": {
        "id": "EqW07Y2JHemG",
        "colab_type": "text"
      },
      "source": [
        "Fig. 4"
      ]
    },
    {
      "cell_type": "code",
      "metadata": {
        "id": "UsTRjFMeHemH",
        "colab_type": "code",
        "colab": {},
        "outputId": "1a29444a-c295-45e5-d5c8-ab35dadd1aae"
      },
      "source": [
        "sns.barplot(x = 'Pclass', y = 'Survived', data = training_set)"
      ],
      "execution_count": 0,
      "outputs": [
        {
          "output_type": "execute_result",
          "data": {
            "text/plain": [
              "<matplotlib.axes._subplots.AxesSubplot at 0x1701fba4940>"
            ]
          },
          "metadata": {
            "tags": []
          },
          "execution_count": 19
        },
        {
          "output_type": "display_data",
          "data": {
            "image/png": "[encoded data removed]",
            "text/plain": [
              "<Figure size 432x288 with 1 Axes>"
            ]
          },
          "metadata": {
            "tags": [],
            "needs_background": "light"
          }
        }
      ]
    },
    {
      "cell_type": "markdown",
      "metadata": {
        "id": "BV7pM3eAHemR",
        "colab_type": "text"
      },
      "source": [
        "Fig. 5"
      ]
    },
    {
      "cell_type": "markdown",
      "metadata": {
        "id": "94JDgaZEHemT",
        "colab_type": "text"
      },
      "source": [
        "According to the charts from Fig. 1 to 5, we can draw the following conclusions:\n",
        "\n",
        " 1) Females survived more than the males.\n",
        " \n",
        " 2) People who were within the age bracket of 0 - 11, survived most, while those older than 60, and the younger youth           between 18 - 30, died most. \n",
        "    However **Fig. 2** elaborates and shows that women within the latter age group had a very high rate of survival       compared to their male counterparts.\n",
        " \n",
        " 3) Also, people of the First class status (Pclass 1), had higher chances of surviving comapred to other classes."
      ]
    },
    {
      "cell_type": "markdown",
      "metadata": {
        "id": "IBW4PIXOHemV",
        "colab_type": "text"
      },
      "source": [
        "### Data Wrangling"
      ]
    },
    {
      "cell_type": "code",
      "metadata": {
        "id": "uRDZrur_HemW",
        "colab_type": "code",
        "colab": {}
      },
      "source": [
        "data = [training_set, testing_set]\n",
        "titles = {'Mr': 1, 'Miss': 2, 'Mrs': 3, 'Master': 4, 'Rare': 5}\n",
        "\n",
        "for dataset in data:\n",
        "    # extract titles\n",
        "    dataset['Title'] = dataset.Name.str.extract(' ([A-Za-z]+)\\.', expand=False)\n",
        "    # replace titles with a more common title or as Rare\n",
        "    dataset['Title'] = dataset['Title'].replace(['Lady', 'Countess','Capt', 'Col','Don', 'Dr',\\\n",
        "                                            'Major', 'Rev', 'Sir', 'Jonkheer', 'Dona'], 'Rare')\n",
        "    dataset['Title'] = dataset['Title'].replace('Mlle', 'Miss')\n",
        "    dataset['Title'] = dataset['Title'].replace('Ms', 'Miss')\n",
        "    dataset['Title'] = dataset['Title'].replace('Mme', 'Mrs')\n",
        "    # convert titles into numbers\n",
        "    dataset['Title'] = dataset['Title'].map(titles)\n",
        "    # filling NaN with 0, to get safe\n",
        "    dataset['Title'] = dataset['Title'].fillna(0)"
      ],
      "execution_count": 0,
      "outputs": []
    },
    {
      "cell_type": "code",
      "metadata": {
        "id": "3WXWWKOeHemc",
        "colab_type": "code",
        "colab": {},
        "outputId": "68f40308-0d7f-4da2-f552-2e423747cec0"
      },
      "source": [
        "sns.barplot(x = 'Title', y = 'Survived', data = training_set)"
      ],
      "execution_count": 0,
      "outputs": [
        {
          "output_type": "execute_result",
          "data": {
            "text/plain": [
              "<matplotlib.axes._subplots.AxesSubplot at 0x1701fc06f60>"
            ]
          },
          "metadata": {
            "tags": []
          },
          "execution_count": 21
        },
        {
          "output_type": "display_data",
          "data": {
            "image/png": "[encoded data removed]",
            "text/plain": [
              "<Figure size 432x288 with 1 Axes>"
            ]
          },
          "metadata": {
            "tags": [],
            "needs_background": "light"
          }
        }
      ]
    },
    {
      "cell_type": "markdown",
      "metadata": {
        "id": "4p5qC9-G-QxG",
        "colab_type": "text"
      },
      "source": [
        "Fig. 6"
      ]
    },
    {
      "cell_type": "code",
      "metadata": {
        "id": "yLseR5xUHemm",
        "colab_type": "code",
        "colab": {}
      },
      "source": [
        "sex = {'male': 0, 'female': 1}\n",
        "data = [training_set, testing_set]\n",
        "\n",
        "for dataset in data:\n",
        "    dataset['Sex'] = dataset['Sex'].map(sex)"
      ],
      "execution_count": 0,
      "outputs": []
    },
    {
      "cell_type": "code",
      "metadata": {
        "id": "TNd3EBIMHems",
        "colab_type": "code",
        "colab": {}
      },
      "source": [
        "ports = {'S': 0, 'C': 1, 'Q': 2}\n",
        "data = [training_set, testing_set]\n",
        "\n",
        "for dataset in data:\n",
        "    dataset['Embarked'] = dataset['Embarked'].map(ports)"
      ],
      "execution_count": 0,
      "outputs": []
    },
    {
      "cell_type": "code",
      "metadata": {
        "id": "TUy_Hs3vHem2",
        "colab_type": "code",
        "colab": {},
        "outputId": "99d12f5e-bc7b-4a59-c510-cdbed533eca1"
      },
      "source": [
        "training_set['Cabin'].value_counts() "
      ],
      "execution_count": 0,
      "outputs": [
        {
          "output_type": "execute_result",
          "data": {
            "text/plain": [
              "B96 B98        691\n",
              "G6               4\n",
              "C23 C25 C27      4\n",
              "F33              3\n",
              "E101             3\n",
              "C22 C26          3\n",
              "D                3\n",
              "F2               3\n",
              "B28              2\n",
              "E44              2\n",
              "E8               2\n",
              "D20              2\n",
              "B5               2\n",
              "B77              2\n",
              "E33              2\n",
              "E67              2\n",
              "F G73            2\n",
              "F4               2\n",
              "B58 B60          2\n",
              "B20              2\n",
              "D36              2\n",
              "C2               2\n",
              "D26              2\n",
              "C78              2\n",
              "C123             2\n",
              "B18              2\n",
              "E121             2\n",
              "C126             2\n",
              "B22              2\n",
              "C52              2\n",
              "              ... \n",
              "A26              1\n",
              "A10              1\n",
              "C110             1\n",
              "E38              1\n",
              "C82              1\n",
              "C128             1\n",
              "A16              1\n",
              "E50              1\n",
              "C86              1\n",
              "D10 D12          1\n",
              "C7               1\n",
              "B30              1\n",
              "D49              1\n",
              "B78              1\n",
              "B38              1\n",
              "B94              1\n",
              "B37              1\n",
              "B42              1\n",
              "E77              1\n",
              "E31              1\n",
              "C85              1\n",
              "C87              1\n",
              "D9               1\n",
              "E34              1\n",
              "A34              1\n",
              "B71              1\n",
              "C62 C64          1\n",
              "D19              1\n",
              "C30              1\n",
              "B102             1\n",
              "Name: Cabin, Length: 147, dtype: int64"
            ]
          },
          "metadata": {
            "tags": []
          },
          "execution_count": 24
        }
      ]
    },
    {
      "cell_type": "markdown",
      "metadata": {
        "id": "6iuGjARKHem-",
        "colab_type": "text"
      },
      "source": [
        "The Cabin data set could have been processed to become numerical but the above output shows how unbalanced the missing data was filled earlier. Hence to aviod biaises, it will not be used in running the model."
      ]
    },
    {
      "cell_type": "markdown",
      "metadata": {
        "id": "F_5SSsDKHem_",
        "colab_type": "text"
      },
      "source": [
        ">### Dropping irrelevant features"
      ]
    },
    {
      "cell_type": "code",
      "metadata": {
        "id": "CxHWiQRFHenB",
        "colab_type": "code",
        "colab": {}
      },
      "source": [
        "to_drop = ['PassengerId', 'Name', 'Ticket'] #'SibSp', 'Parch', 'Ticket']\n",
        "\n",
        "train = training_set.drop(to_drop, axis = 1, inplace = True)\n",
        "test = testing_set.drop(to_drop, axis = 1, inplace = True)"
      ],
      "execution_count": 0,
      "outputs": []
    },
    {
      "cell_type": "code",
      "metadata": {
        "id": "T8Fw1lhYHenH",
        "colab_type": "code",
        "colab": {},
        "outputId": "6fd1ec3f-16ae-492f-c713-75979b538360"
      },
      "source": [
        "training_set.head()"
      ],
      "execution_count": 0,
      "outputs": [
        {
          "output_type": "execute_result",
          "data": {
            "text/html": [
              "<div>\n",
              "<style scoped>\n",
              "    .dataframe tbody tr th:only-of-type {\n",
              "        vertical-align: middle;\n",
              "    }\n",
              "\n",
              "    .dataframe tbody tr th {\n",
              "        vertical-align: top;\n",
              "    }\n",
              "\n",
              "    .dataframe thead th {\n",
              "        text-align: right;\n",
              "    }\n",
              "</style>\n",
              "<table border=\"1\" class=\"dataframe\">\n",
              "  <thead>\n",
              "    <tr style=\"text-align: right;\">\n",
              "      <th></th>\n",
              "      <th>Survived</th>\n",
              "      <th>Pclass</th>\n",
              "      <th>Sex</th>\n",
              "      <th>Age</th>\n",
              "      <th>SibSp</th>\n",
              "      <th>Parch</th>\n",
              "      <th>Fare</th>\n",
              "      <th>Cabin</th>\n",
              "      <th>Embarked</th>\n",
              "      <th>Title</th>\n",
              "    </tr>\n",
              "  </thead>\n",
              "  <tbody>\n",
              "    <tr>\n",
              "      <th>0</th>\n",
              "      <td>0</td>\n",
              "      <td>3</td>\n",
              "      <td>0</td>\n",
              "      <td>2</td>\n",
              "      <td>1</td>\n",
              "      <td>0</td>\n",
              "      <td>7.2500</td>\n",
              "      <td>B96 B98</td>\n",
              "      <td>0</td>\n",
              "      <td>1</td>\n",
              "    </tr>\n",
              "    <tr>\n",
              "      <th>1</th>\n",
              "      <td>1</td>\n",
              "      <td>1</td>\n",
              "      <td>1</td>\n",
              "      <td>4</td>\n",
              "      <td>1</td>\n",
              "      <td>0</td>\n",
              "      <td>71.2833</td>\n",
              "      <td>C85</td>\n",
              "      <td>1</td>\n",
              "      <td>3</td>\n",
              "    </tr>\n",
              "    <tr>\n",
              "      <th>2</th>\n",
              "      <td>1</td>\n",
              "      <td>3</td>\n",
              "      <td>1</td>\n",
              "      <td>3</td>\n",
              "      <td>0</td>\n",
              "      <td>0</td>\n",
              "      <td>7.9250</td>\n",
              "      <td>B96 B98</td>\n",
              "      <td>0</td>\n",
              "      <td>2</td>\n",
              "    </tr>\n",
              "    <tr>\n",
              "      <th>3</th>\n",
              "      <td>1</td>\n",
              "      <td>1</td>\n",
              "      <td>1</td>\n",
              "      <td>4</td>\n",
              "      <td>1</td>\n",
              "      <td>0</td>\n",
              "      <td>53.1000</td>\n",
              "      <td>C123</td>\n",
              "      <td>0</td>\n",
              "      <td>3</td>\n",
              "    </tr>\n",
              "    <tr>\n",
              "      <th>4</th>\n",
              "      <td>0</td>\n",
              "      <td>3</td>\n",
              "      <td>0</td>\n",
              "      <td>4</td>\n",
              "      <td>0</td>\n",
              "      <td>0</td>\n",
              "      <td>8.0500</td>\n",
              "      <td>B96 B98</td>\n",
              "      <td>0</td>\n",
              "      <td>1</td>\n",
              "    </tr>\n",
              "  </tbody>\n",
              "</table>\n",
              "</div>"
            ],
            "text/plain": [
              "   Survived  Pclass  Sex  Age  SibSp  Parch     Fare    Cabin  Embarked  Title\n",
              "0         0       3    0    2      1      0   7.2500  B96 B98         0      1\n",
              "1         1       1    1    4      1      0  71.2833      C85         1      3\n",
              "2         1       3    1    3      0      0   7.9250  B96 B98         0      2\n",
              "3         1       1    1    4      1      0  53.1000     C123         0      3\n",
              "4         0       3    0    4      0      0   8.0500  B96 B98         0      1"
            ]
          },
          "metadata": {
            "tags": []
          },
          "execution_count": 69
        }
      ]
    },
    {
      "cell_type": "code",
      "metadata": {
        "id": "GJWjXteyHenN",
        "colab_type": "code",
        "colab": {},
        "outputId": "8ab886f7-02c0-4b66-d15b-9f84809f905e"
      },
      "source": [
        "testing_set.head()"
      ],
      "execution_count": 0,
      "outputs": [
        {
          "output_type": "execute_result",
          "data": {
            "text/html": [
              "<div>\n",
              "<style scoped>\n",
              "    .dataframe tbody tr th:only-of-type {\n",
              "        vertical-align: middle;\n",
              "    }\n",
              "\n",
              "    .dataframe tbody tr th {\n",
              "        vertical-align: top;\n",
              "    }\n",
              "\n",
              "    .dataframe thead th {\n",
              "        text-align: right;\n",
              "    }\n",
              "</style>\n",
              "<table border=\"1\" class=\"dataframe\">\n",
              "  <thead>\n",
              "    <tr style=\"text-align: right;\">\n",
              "      <th></th>\n",
              "      <th>Pclass</th>\n",
              "      <th>Sex</th>\n",
              "      <th>Age</th>\n",
              "      <th>SibSp</th>\n",
              "      <th>Parch</th>\n",
              "      <th>Fare</th>\n",
              "      <th>Cabin</th>\n",
              "      <th>Embarked</th>\n",
              "      <th>Title</th>\n",
              "    </tr>\n",
              "  </thead>\n",
              "  <tbody>\n",
              "    <tr>\n",
              "      <th>0</th>\n",
              "      <td>3</td>\n",
              "      <td>0</td>\n",
              "      <td>4</td>\n",
              "      <td>0</td>\n",
              "      <td>0</td>\n",
              "      <td>7.8292</td>\n",
              "      <td>B57 B59 B63 B66</td>\n",
              "      <td>2</td>\n",
              "      <td>1</td>\n",
              "    </tr>\n",
              "    <tr>\n",
              "      <th>1</th>\n",
              "      <td>3</td>\n",
              "      <td>1</td>\n",
              "      <td>5</td>\n",
              "      <td>1</td>\n",
              "      <td>0</td>\n",
              "      <td>7.0000</td>\n",
              "      <td>B57 B59 B63 B66</td>\n",
              "      <td>0</td>\n",
              "      <td>3</td>\n",
              "    </tr>\n",
              "    <tr>\n",
              "      <th>2</th>\n",
              "      <td>2</td>\n",
              "      <td>0</td>\n",
              "      <td>6</td>\n",
              "      <td>0</td>\n",
              "      <td>0</td>\n",
              "      <td>9.6875</td>\n",
              "      <td>B57 B59 B63 B66</td>\n",
              "      <td>2</td>\n",
              "      <td>1</td>\n",
              "    </tr>\n",
              "    <tr>\n",
              "      <th>3</th>\n",
              "      <td>3</td>\n",
              "      <td>0</td>\n",
              "      <td>3</td>\n",
              "      <td>0</td>\n",
              "      <td>0</td>\n",
              "      <td>8.6625</td>\n",
              "      <td>B57 B59 B63 B66</td>\n",
              "      <td>0</td>\n",
              "      <td>1</td>\n",
              "    </tr>\n",
              "    <tr>\n",
              "      <th>4</th>\n",
              "      <td>3</td>\n",
              "      <td>1</td>\n",
              "      <td>2</td>\n",
              "      <td>1</td>\n",
              "      <td>1</td>\n",
              "      <td>12.2875</td>\n",
              "      <td>B57 B59 B63 B66</td>\n",
              "      <td>0</td>\n",
              "      <td>3</td>\n",
              "    </tr>\n",
              "  </tbody>\n",
              "</table>\n",
              "</div>"
            ],
            "text/plain": [
              "   Pclass  Sex  Age  SibSp  Parch     Fare            Cabin  Embarked  Title\n",
              "0       3    0    4      0      0   7.8292  B57 B59 B63 B66         2      1\n",
              "1       3    1    5      1      0   7.0000  B57 B59 B63 B66         0      3\n",
              "2       2    0    6      0      0   9.6875  B57 B59 B63 B66         2      1\n",
              "3       3    0    3      0      0   8.6625  B57 B59 B63 B66         0      1\n",
              "4       3    1    2      1      1  12.2875  B57 B59 B63 B66         0      3"
            ]
          },
          "metadata": {
            "tags": []
          },
          "execution_count": 70
        }
      ]
    },
    {
      "cell_type": "markdown",
      "metadata": {
        "id": "wMWG4sJNHenW",
        "colab_type": "text"
      },
      "source": [
        "### Standardizing the data and Building a model"
      ]
    },
    {
      "cell_type": "code",
      "metadata": {
        "id": "2sHfSxodHenX",
        "colab_type": "code",
        "colab": {}
      },
      "source": [
        "from sklearn import linear_model\n",
        "from sklearn.linear_model import LogisticRegression\n",
        "from sklearn.ensemble import RandomForestClassifier\n",
        "from sklearn.tree import DecisionTreeClassifier\n",
        "from sklearn.naive_bayes import GaussianNB\n",
        "import xgboost as xgb\n",
        "from xgboost import XGBClassifier"
      ],
      "execution_count": 0,
      "outputs": []
    },
    {
      "cell_type": "code",
      "metadata": {
        "id": "mGmHOHOpHend",
        "colab_type": "code",
        "colab": {}
      },
      "source": [
        "X_train = training_set.drop(['Survived', 'Cabin'], axis=1)\n",
        "Y_train = training_set['Survived']\n",
        "X_test  = testing_set.drop('Cabin', axis=1)"
      ],
      "execution_count": 0,
      "outputs": []
    },
    {
      "cell_type": "markdown",
      "metadata": {
        "id": "mGDJVPxbzkK6",
        "colab_type": "text"
      },
      "source": [
        "Scaling was used to place all the values of the data points within a similar range. Previewing the data, we can tell that the 'Fare' column was out of proportion. Therefore after preprocessing, all values will be standardized."
      ]
    },
    {
      "cell_type": "code",
      "metadata": {
        "id": "eZICt8HAHenk",
        "colab_type": "code",
        "colab": {}
      },
      "source": [
        "from sklearn import preprocessing\n",
        "\n",
        "X_Train = preprocessing.scale(X_train)\n",
        "X_Test = preprocessing.scale(X_test)"
      ],
      "execution_count": 0,
      "outputs": []
    },
    {
      "cell_type": "markdown",
      "metadata": {
        "id": "eLslJi6KyRiV",
        "colab_type": "text"
      },
      "source": [
        "\n",
        "\n",
        "Now, the dataset is fit for modelling. Different algorithms will be used to create a good model, out of which the best will be further used to get our final prediction."
      ]
    },
    {
      "cell_type": "code",
      "metadata": {
        "id": "GHVP5BRZHenr",
        "colab_type": "code",
        "colab": {},
        "outputId": "5fb6eeac-3ce6-4562-ff02-9bf746ef29a6"
      },
      "source": [
        "# 1)\n",
        "xgbclassifier = XGBClassifier(n_estimators = 100, oob_score = True)\n",
        "xgbclassifier.fit(X_Train, Y_train)\n",
        "Y_prediction = xgbclassifier.predict(X_Test)\n",
        "\n",
        "xgbclassifier.score(X_Train, Y_train)\n",
        "\n",
        "acc_xgbclassifier = round(xgbclassifier.score(X_Train, Y_train) * 100, 2)\n",
        "print(\"Prediction Accuracy: \", round(acc_xgbclassifier,2,), \"%\")\n"
      ],
      "execution_count": 0,
      "outputs": [
        {
          "output_type": "stream",
          "text": [
            "Prediction Accuracy:  93.94 %\n"
          ],
          "name": "stdout"
        }
      ]
    },
    {
      "cell_type": "code",
      "metadata": {
        "id": "l7M8Hij8Henx",
        "colab_type": "code",
        "colab": {},
        "outputId": "b9c82d43-5051-4244-c699-3f04bf7f40eb"
      },
      "source": [
        "# 2)\n",
        "rfclassifier = RandomForestClassifier(n_estimators = 100, oob_score = True)\n",
        "rfclassifier.fit(X_Train, Y_train)\n",
        "Y_prediction = rfclassifier.predict(X_Test)\n",
        "\n",
        "rfclassifier.score(X_Train, Y_train)\n",
        "\n",
        "acc_rfclassifier = round(rfclassifier.score(X_Train, Y_train) * 100, 2)\n",
        "print(\"Prediction Accuracy: \", round(acc_rfclassifier,2,), \"%\")"
      ],
      "execution_count": 0,
      "outputs": [
        {
          "output_type": "stream",
          "text": [
            "Prediction Accuracy:  95.06 %\n"
          ],
          "name": "stdout"
        }
      ]
    },
    {
      "cell_type": "code",
      "metadata": {
        "id": "PonGhf66Hen9",
        "colab_type": "code",
        "colab": {},
        "outputId": "02597d19-8fe5-42aa-e58a-a1140c14c997"
      },
      "source": [
        "# 3)\n",
        "decision_tree = DecisionTreeClassifier()\n",
        "decision_tree.fit(X_Train, Y_train)\n",
        "\n",
        "Y_pred = decision_tree.predict(X_Test)\n",
        "\n",
        "acc_decision_tree = round(decision_tree.score(X_Train, Y_train) * 100, 2)\n",
        "print(round(acc_decision_tree,2,), \"%\")"
      ],
      "execution_count": 0,
      "outputs": [
        {
          "output_type": "stream",
          "text": [
            "95.06 %\n"
          ],
          "name": "stdout"
        }
      ]
    },
    {
      "cell_type": "code",
      "metadata": {
        "id": "u31bJq-8HeoC",
        "colab_type": "code",
        "colab": {}
      },
      "source": [
        ""
      ],
      "execution_count": 0,
      "outputs": []
    },
    {
      "cell_type": "markdown",
      "metadata": {
        "id": "m_nAeKi8HeoL",
        "colab_type": "text"
      },
      "source": [
        ">Out of the three models that were trained, the RandomForestClassifier and the DecisionTreeClassifier, performed best in predicting Y. The cell below will evaluate the performance more by using 'Cross validation (cv)'. The cv will divide the dataset into 10 parts (or preferrably folds) as was chosen. This will run the model through and tell the mean value of the accuracy. The purpose of this is to minimize biases while training the model. Also the Standard deviation tells how far the model was from the actual Y values (i.e Y_train).\n"
      ]
    },
    {
      "cell_type": "code",
      "metadata": {
        "id": "h3B5eUQ_HeoM",
        "colab_type": "code",
        "colab": {},
        "outputId": "155e2b3e-f8d1-4031-ea87-a5d846a6a7fb"
      },
      "source": [
        "from sklearn.model_selection import cross_val_score\n",
        "rf_classifier = RandomForestClassifier(n_estimators = 100, random_state = 302)\n",
        "scores = cross_val_score(rf_classifier, X_Train, Y_train, cv = 10,scoring = 'accuracy')\n",
        "\n",
        "\n",
        "print('Scores:', scores, '\\n')\n",
        "print('Mean:', scores.mean(), '\\n')\n",
        "print('Standard Deviation:', scores.std())"
      ],
      "execution_count": 0,
      "outputs": [
        {
          "output_type": "stream",
          "text": [
            "Scores: [0.81111111 0.83333333 0.75280899 0.82022472 0.87640449 0.85393258\n",
            " 0.78651685 0.76404494 0.80898876 0.88636364] \n",
            "\n",
            "Mean: 0.8193729429122687 \n",
            "\n",
            "Standard Deviation: 0.042282262002114636\n"
          ],
          "name": "stdout"
        }
      ]
    },
    {
      "cell_type": "markdown",
      "metadata": {
        "id": "xdlkkhYdHeoT",
        "colab_type": "text"
      },
      "source": [
        "The cell below will run a **out of bag samples** accuracy. This is usually the best method for estimating random-forest classifiers performance. "
      ]
    },
    {
      "cell_type": "code",
      "metadata": {
        "id": "Dd3-nUhvHeoV",
        "colab_type": "code",
        "colab": {},
        "outputId": "271205a3-4a7a-4c9e-f424-677ef89d7450"
      },
      "source": [
        "print(\"oob score:\", round(rfclassifier.oob_score_, 4)*100, \"%\")"
      ],
      "execution_count": 0,
      "outputs": [
        {
          "output_type": "stream",
          "text": [
            "oob score: 82.04 %\n"
          ],
          "name": "stdout"
        }
      ]
    },
    {
      "cell_type": "markdown",
      "metadata": {
        "id": "EmpnnVsW5bUC",
        "colab_type": "text"
      },
      "source": [
        "From the two preceeding cells, we can see how the Random Forest accuracy dropped from 95% to ~82%. We might want to know further the details of the model's predictions. This is done using the confusion_matrix."
      ]
    },
    {
      "cell_type": "code",
      "metadata": {
        "id": "VB00CLKPHeoe",
        "colab_type": "code",
        "colab": {},
        "outputId": "8444e919-8b23-4601-cd31-7f04082a2c48"
      },
      "source": [
        "from sklearn.model_selection import cross_val_predict\n",
        "from sklearn.metrics import confusion_matrix\n",
        "predictions = cross_val_predict(rfclassifier, X_Train, Y_train, cv=3)\n",
        "confusion_matrix(Y_train, predictions)"
      ],
      "execution_count": 0,
      "outputs": [
        {
          "output_type": "execute_result",
          "data": {
            "text/plain": [
              "array([[473,  76],\n",
              "       [ 97, 245]], dtype=int64)"
            ]
          },
          "metadata": {
            "tags": []
          },
          "execution_count": 102
        }
      ]
    },
    {
      "cell_type": "markdown",
      "metadata": {
        "id": "SlwymEoZHeom",
        "colab_type": "text"
      },
      "source": [
        "The confusion_matrix gives a detailed summary of the model predictions. So here we have that **473** of the **non-survived** were **correctly classified** while **76** of them were **not**.\n",
        "Also, **97 passengers** were **wrongly classified as survived** while **245 were correctly classified**.\n",
        "\n",
        "\n",
        "After using all accuracy matrices, the model still proved to be a good fit."
      ]
    },
    {
      "cell_type": "code",
      "metadata": {
        "id": "cbScfyhSHeon",
        "colab_type": "code",
        "colab": {}
      },
      "source": [
        "importances = pd.DataFrame({'feature':X_train.columns,'importance':np.round(rfclassifier.feature_importances_,3)})\n",
        "importances = importances.sort_values('importance',ascending = False).set_index('feature')"
      ],
      "execution_count": 0,
      "outputs": []
    },
    {
      "cell_type": "code",
      "metadata": {
        "id": "3Csrrj82Heot",
        "colab_type": "code",
        "colab": {},
        "outputId": "cbf15fa7-85c9-42e0-8ac4-7a7ff014eccd"
      },
      "source": [
        "importances.plot.bar()"
      ],
      "execution_count": 0,
      "outputs": [
        {
          "output_type": "execute_result",
          "data": {
            "text/plain": [
              "<matplotlib.axes._subplots.AxesSubplot at 0x17021dd56d8>"
            ]
          },
          "metadata": {
            "tags": []
          },
          "execution_count": 106
        },
        {
          "output_type": "display_data",
          "data": {
            "image/png": "[encoded data removed]",
            "text/plain": [
              "<Figure size 432x288 with 1 Axes>"
            ]
          },
          "metadata": {
            "tags": [],
            "needs_background": "light"
          }
        }
      ]
    },
    {
      "cell_type": "markdown",
      "metadata": {
        "id": "Vzshhizq-VyQ",
        "colab_type": "text"
      },
      "source": [
        "Fig. 7"
      ]
    },
    {
      "cell_type": "markdown",
      "metadata": {
        "id": "F1Ar1LTs-adi",
        "colab_type": "text"
      },
      "source": [
        "Fig. 7 above is used to illustrate the important features in a descending order. Visually, Fare is a very strong determinant, followed by the Title the passengers bore and their Sex. "
      ]
    },
    {
      "cell_type": "markdown",
      "metadata": {
        "id": "ypG4w_N3-K2A",
        "colab_type": "text"
      },
      "source": [
        ""
      ]
    },
    {
      "cell_type": "code",
      "metadata": {
        "id": "wXc3-ifhHeo0",
        "colab_type": "code",
        "colab": {}
      },
      "source": [
        "submission['Survived'] = Y_prediction"
      ],
      "execution_count": 0,
      "outputs": []
    },
    {
      "cell_type": "code",
      "metadata": {
        "id": "hwhHyNjYHepB",
        "colab_type": "code",
        "colab": {}
      },
      "source": [
        "submission.to_csv('Final_submission.csv', index = False)"
      ],
      "execution_count": 0,
      "outputs": []
    }
  ]
}